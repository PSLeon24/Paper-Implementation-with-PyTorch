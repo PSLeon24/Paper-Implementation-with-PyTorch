{
 "cells": [
  {
   "cell_type": "markdown",
   "id": "73b7a757-157e-4e39-afa7-a35ffe7bb9c5",
   "metadata": {},
   "source": [
    "# 1. Import Dependencies"
   ]
  },
  {
   "cell_type": "code",
   "execution_count": 24,
   "id": "a8a726ab-2955-416c-985a-ac1fef93f67d",
   "metadata": {},
   "outputs": [],
   "source": [
    "import torch\n",
    "import torchvision\n",
    "import torchvision.transforms as transforms\n",
    "from torch.utils.data import DataLoader\n",
    "import torch.nn as nn\n",
    "import torch.nn.functional as F\n",
    "import torch.optim as optim\n",
    "from torchsummary import summary\n",
    "import matplotlib.pyplot as plt\n",
    "from tqdm import tqdm"
   ]
  },
  {
   "cell_type": "code",
   "execution_count": 2,
   "id": "2fb10802-1404-4b0a-9cca-6141626e7618",
   "metadata": {},
   "outputs": [
    {
     "name": "stdout",
     "output_type": "stream",
     "text": [
      "cuda:0 is available\n"
     ]
    }
   ],
   "source": [
    "device = torch.device(\"cuda:0\" if torch.cuda.is_available() else \"cpu\")\n",
    "print(f\"{device} is available\")"
   ]
  },
  {
   "cell_type": "markdown",
   "id": "7269edfc-384c-4c6c-a440-7b137663d9d4",
   "metadata": {},
   "source": [
    "# 2. Load Dataset"
   ]
  },
  {
   "cell_type": "code",
   "execution_count": 3,
   "id": "d9fbe0da-55d2-4c40-8e64-a718a74dcb9a",
   "metadata": {},
   "outputs": [
    {
     "name": "stdout",
     "output_type": "stream",
     "text": [
      "Files already downloaded and verified\n",
      "Files already downloaded and verified\n"
     ]
    }
   ],
   "source": [
    "transform = transforms.Compose([\n",
    "    transforms.ToTensor(),\n",
    "    transforms.Normalize((0.485, 0.456, 0.406), (0.229, 0.224, 0.225)) # mean, std\n",
    "])\n",
    "\n",
    "trainset = torchvision.datasets.CIFAR10(root='./data', train=True, download=True, transform=transform)\n",
    "testset = torchvision.datasets.CIFAR10(root='./data', train=False, download=True, transform=transform)\n",
    "\n",
    "trainloader = torch.utils.data.DataLoader(trainset, batch_size = 32, shuffle = True)\n",
    "testloader = torch.utils.data.DataLoader(testset, batch_size = 32, shuffle = False)"
   ]
  },
  {
   "cell_type": "markdown",
   "id": "3ddf81db-5182-47dc-9961-3aca1cb64288",
   "metadata": {},
   "source": [
    "# 3. Construct Model"
   ]
  },
  {
   "cell_type": "code",
   "execution_count": 34,
   "id": "a353346e-4e61-46ad-9c4f-1d76c614af1d",
   "metadata": {},
   "outputs": [],
   "source": [
    "# 32 x 32 x 1, 1 is called channel(i.e., RGB, HSV, etc)\n",
    "# filter = kernel\n",
    "# stride: 필터가 움직이는 보폭\n",
    "# padding: 이미지 밖을 특정 값으로 채우는 것(e.g., zero padding)\n",
    "class AlexNet(nn.Module):\n",
    "    def __init__(self):\n",
    "        super(AlexNet, self).__init__()\n",
    "        # 1. Feature Extraction\n",
    "        self.features = nn.Sequential(\n",
    "            # input size = 64 x 30 x 30\n",
    "            # W_out = ((W_in - k + 2p) / s) + 1\n",
    "            # H_out = ((H_in - k + 2p) / s) + 1\n",
    "            # Conv1\n",
    "            nn.Conv2d(in_channels = 3, out_channels = 64, kernel_size = 3),\n",
    "            nn.ReLU(),\n",
    "            # Max Pool1\n",
    "            nn.MaxPool2d(kernel_size = 2, stride = 2),\n",
    "            # Conv2\n",
    "            nn.Conv2d(in_channels = 64, out_channels = 192, kernel_size = 3, padding = 1),\n",
    "            nn.ReLU(),\n",
    "            # Max Pool2\n",
    "            nn.MaxPool2d(kernel_size = 2, stride = 2),\n",
    "            # Conv3\n",
    "            nn.Conv2d(in_channels = 192, out_channels = 384, kernel_size = 3, padding = 1),\n",
    "            nn.ReLU(),\n",
    "            # Conv4\n",
    "            nn.Conv2d(in_channels = 384, out_channels = 256, kernel_size = 3, padding = 1),\n",
    "            nn.ReLU(),\n",
    "            # Conv5\n",
    "            nn.Conv2d(in_channels = 256, out_channels = 256, kernel_size = 1),\n",
    "            nn.ReLU(),\n",
    "            # Max Pool3\n",
    "            nn.MaxPool2d(kernel_size = 2, stride = 2)\n",
    "        )\n",
    "\n",
    "        # 2. Classifier\n",
    "        self.classifier = nn.Sequential(\n",
    "            # fc1\n",
    "            nn.Dropout(),\n",
    "            nn.Linear(in_features = 256 * 3 * 3, out_features = 1024),\n",
    "            nn.ReLU(),\n",
    "            # fc2\n",
    "            nn.Dropout(),\n",
    "            nn.Linear(in_features = 1024, out_features = 512),\n",
    "            nn.ReLU(),\n",
    "            # fc3\n",
    "            nn.Linear(512, 10)\n",
    "        )\n",
    "\n",
    "    def forward(self, x):\n",
    "        x = self.features(x)\n",
    "        x = x.view(-1, 256 * 3 * 3)\n",
    "        x = self.classifier(x)\n",
    "        return x"
   ]
  },
  {
   "cell_type": "code",
   "execution_count": 35,
   "id": "b9dc4a6e-8829-4799-903d-f0247b976bc2",
   "metadata": {},
   "outputs": [],
   "source": [
    "criterion = nn.CrossEntropyLoss()\n",
    "alexnet = AlexNet().to(device)\n",
    "optimizer = optim.Adam(alexnet.parameters(), lr = 1e-3)"
   ]
  },
  {
   "cell_type": "code",
   "execution_count": 36,
   "id": "4573875a-0c8e-4337-a5d6-4b7b91e72b21",
   "metadata": {},
   "outputs": [
    {
     "name": "stdout",
     "output_type": "stream",
     "text": [
      "----------------------------------------------------------------\n",
      "        Layer (type)               Output Shape         Param #\n",
      "================================================================\n",
      "            Conv2d-1           [-1, 64, 28, 28]           1,792\n",
      "              ReLU-2           [-1, 64, 28, 28]               0\n",
      "         MaxPool2d-3           [-1, 64, 14, 14]               0\n",
      "            Conv2d-4          [-1, 192, 14, 14]         110,784\n",
      "              ReLU-5          [-1, 192, 14, 14]               0\n",
      "         MaxPool2d-6            [-1, 192, 7, 7]               0\n",
      "            Conv2d-7            [-1, 384, 7, 7]         663,936\n",
      "              ReLU-8            [-1, 384, 7, 7]               0\n",
      "            Conv2d-9            [-1, 256, 7, 7]         884,992\n",
      "             ReLU-10            [-1, 256, 7, 7]               0\n",
      "           Conv2d-11            [-1, 256, 7, 7]          65,792\n",
      "             ReLU-12            [-1, 256, 7, 7]               0\n",
      "        MaxPool2d-13            [-1, 256, 3, 3]               0\n",
      "          Dropout-14                 [-1, 2304]               0\n",
      "           Linear-15                 [-1, 1024]       2,360,320\n",
      "             ReLU-16                 [-1, 1024]               0\n",
      "          Dropout-17                 [-1, 1024]               0\n",
      "           Linear-18                  [-1, 512]         524,800\n",
      "             ReLU-19                  [-1, 512]               0\n",
      "           Linear-20                   [-1, 10]           5,130\n",
      "================================================================\n",
      "Total params: 4,617,546\n",
      "Trainable params: 4,617,546\n",
      "Non-trainable params: 0\n",
      "----------------------------------------------------------------\n",
      "Input size (MB): 0.01\n",
      "Forward/backward pass size (MB): 2.24\n",
      "Params size (MB): 17.61\n",
      "Estimated Total Size (MB): 19.87\n",
      "----------------------------------------------------------------\n"
     ]
    }
   ],
   "source": [
    "summary(alexnet, (3, 30, 30))"
   ]
  },
  {
   "cell_type": "markdown",
   "id": "189b7203-3a88-4b04-963b-a0e39b32a877",
   "metadata": {},
   "source": [
    "# 4. Model Training"
   ]
  },
  {
   "cell_type": "code",
   "execution_count": 37,
   "id": "878c24f8-b91b-455b-b436-943adff652bd",
   "metadata": {},
   "outputs": [
    {
     "name": "stderr",
     "output_type": "stream",
     "text": [
      "Epoch 1/50: 100%|██████████████████████████| 1563/1563 [00:14<00:00, 107.32it/s]\n",
      "Epoch 2/50: 100%|██████████████████████████| 1563/1563 [00:14<00:00, 108.90it/s]\n",
      "Epoch 3/50: 100%|██████████████████████████| 1563/1563 [00:14<00:00, 107.86it/s]\n",
      "Epoch 4/50: 100%|██████████████████████████| 1563/1563 [00:14<00:00, 106.96it/s]\n",
      "Epoch 5/50: 100%|██████████████████████████| 1563/1563 [00:14<00:00, 107.42it/s]\n",
      "Epoch 6/50: 100%|██████████████████████████| 1563/1563 [00:14<00:00, 107.76it/s]\n",
      "Epoch 7/50: 100%|██████████████████████████| 1563/1563 [00:14<00:00, 105.93it/s]\n",
      "Epoch 8/50: 100%|██████████████████████████| 1563/1563 [00:14<00:00, 105.73it/s]\n",
      "Epoch 9/50: 100%|██████████████████████████| 1563/1563 [00:15<00:00, 102.96it/s]\n",
      "Epoch 10/50: 100%|█████████████████████████| 1563/1563 [00:14<00:00, 105.55it/s]\n"
     ]
    },
    {
     "name": "stdout",
     "output_type": "stream",
     "text": [
      "epoch: 10, loss: 0.5971091660889615\n"
     ]
    },
    {
     "name": "stderr",
     "output_type": "stream",
     "text": [
      "Epoch 11/50: 100%|█████████████████████████| 1563/1563 [00:14<00:00, 107.43it/s]\n",
      "Epoch 12/50: 100%|█████████████████████████| 1563/1563 [00:14<00:00, 109.35it/s]\n",
      "Epoch 13/50: 100%|█████████████████████████| 1563/1563 [00:14<00:00, 109.03it/s]\n",
      "Epoch 14/50: 100%|█████████████████████████| 1563/1563 [00:14<00:00, 106.00it/s]\n",
      "Epoch 15/50: 100%|█████████████████████████| 1563/1563 [00:14<00:00, 109.81it/s]\n",
      "Epoch 16/50: 100%|█████████████████████████| 1563/1563 [00:14<00:00, 108.64it/s]\n",
      "Epoch 17/50: 100%|█████████████████████████| 1563/1563 [00:14<00:00, 108.19it/s]\n",
      "Epoch 18/50: 100%|█████████████████████████| 1563/1563 [00:14<00:00, 107.84it/s]\n",
      "Epoch 19/50: 100%|█████████████████████████| 1563/1563 [00:14<00:00, 104.97it/s]\n",
      "Epoch 20/50: 100%|█████████████████████████| 1563/1563 [00:14<00:00, 108.58it/s]\n"
     ]
    },
    {
     "name": "stdout",
     "output_type": "stream",
     "text": [
      "epoch: 20, loss: 0.392103565457591\n"
     ]
    },
    {
     "name": "stderr",
     "output_type": "stream",
     "text": [
      "Epoch 21/50: 100%|█████████████████████████| 1563/1563 [00:14<00:00, 107.85it/s]\n",
      "Epoch 22/50: 100%|█████████████████████████| 1563/1563 [00:14<00:00, 105.09it/s]\n",
      "Epoch 23/50: 100%|█████████████████████████| 1563/1563 [00:14<00:00, 105.45it/s]\n",
      "Epoch 24/50: 100%|█████████████████████████| 1563/1563 [00:14<00:00, 107.62it/s]\n",
      "Epoch 25/50: 100%|█████████████████████████| 1563/1563 [00:14<00:00, 108.21it/s]\n",
      "Epoch 26/50: 100%|█████████████████████████| 1563/1563 [00:14<00:00, 107.90it/s]\n",
      "Epoch 27/50: 100%|█████████████████████████| 1563/1563 [00:14<00:00, 107.46it/s]\n",
      "Epoch 28/50: 100%|█████████████████████████| 1563/1563 [00:14<00:00, 106.91it/s]\n",
      "Epoch 29/50: 100%|█████████████████████████| 1563/1563 [00:14<00:00, 108.46it/s]\n",
      "Epoch 30/50: 100%|█████████████████████████| 1563/1563 [00:14<00:00, 108.09it/s]\n"
     ]
    },
    {
     "name": "stdout",
     "output_type": "stream",
     "text": [
      "epoch: 30, loss: 0.3016152037170573\n"
     ]
    },
    {
     "name": "stderr",
     "output_type": "stream",
     "text": [
      "Epoch 31/50: 100%|█████████████████████████| 1563/1563 [00:14<00:00, 107.28it/s]\n",
      "Epoch 32/50: 100%|█████████████████████████| 1563/1563 [00:14<00:00, 107.37it/s]\n",
      "Epoch 33/50: 100%|█████████████████████████| 1563/1563 [00:14<00:00, 107.82it/s]\n",
      "Epoch 34/50: 100%|█████████████████████████| 1563/1563 [00:14<00:00, 107.96it/s]\n",
      "Epoch 35/50: 100%|█████████████████████████| 1563/1563 [00:14<00:00, 108.76it/s]\n",
      "Epoch 36/50: 100%|█████████████████████████| 1563/1563 [00:14<00:00, 108.99it/s]\n",
      "Epoch 37/50: 100%|█████████████████████████| 1563/1563 [00:14<00:00, 109.02it/s]\n",
      "Epoch 38/50: 100%|█████████████████████████| 1563/1563 [00:14<00:00, 106.51it/s]\n",
      "Epoch 39/50: 100%|█████████████████████████| 1563/1563 [00:14<00:00, 105.67it/s]\n",
      "Epoch 40/50: 100%|█████████████████████████| 1563/1563 [00:15<00:00, 103.19it/s]\n"
     ]
    },
    {
     "name": "stdout",
     "output_type": "stream",
     "text": [
      "epoch: 40, loss: 0.2667211317263606\n"
     ]
    },
    {
     "name": "stderr",
     "output_type": "stream",
     "text": [
      "Epoch 41/50: 100%|█████████████████████████| 1563/1563 [00:14<00:00, 105.93it/s]\n",
      "Epoch 42/50: 100%|█████████████████████████| 1563/1563 [00:14<00:00, 107.07it/s]\n",
      "Epoch 43/50: 100%|█████████████████████████| 1563/1563 [00:14<00:00, 108.88it/s]\n",
      "Epoch 44/50: 100%|█████████████████████████| 1563/1563 [00:14<00:00, 108.18it/s]\n",
      "Epoch 45/50: 100%|█████████████████████████| 1563/1563 [00:14<00:00, 107.94it/s]\n",
      "Epoch 46/50: 100%|█████████████████████████| 1563/1563 [00:14<00:00, 107.05it/s]\n",
      "Epoch 47/50: 100%|█████████████████████████| 1563/1563 [00:15<00:00, 103.28it/s]\n",
      "Epoch 48/50: 100%|█████████████████████████| 1563/1563 [00:15<00:00, 100.21it/s]\n",
      "Epoch 49/50: 100%|█████████████████████████| 1563/1563 [00:15<00:00, 100.93it/s]\n",
      "Epoch 50/50: 100%|██████████████████████████| 1563/1563 [00:15<00:00, 99.55it/s]"
     ]
    },
    {
     "name": "stdout",
     "output_type": "stream",
     "text": [
      "epoch: 50, loss: 0.2672241702173811\n"
     ]
    },
    {
     "name": "stderr",
     "output_type": "stream",
     "text": [
      "\n"
     ]
    }
   ],
   "source": [
    "loss_ = []\n",
    "n = len(trainloader)\n",
    "for epoch in range(1, 51):\n",
    "    running_loss = 0.0\n",
    "    # Wrap the trainloader with tqdm to show progress\n",
    "    for data in tqdm(trainloader, desc=f\"Epoch {epoch}/50\"):\n",
    "        inputs, labels = data[0].to(device), data[1].to(device)  # batch data\n",
    "        optimizer.zero_grad()\n",
    "        outputs = alexnet(inputs)  # calc prediction\n",
    "        loss = criterion(outputs, labels)  # calc loss\n",
    "        loss.backward()  # backpropagation\n",
    "        optimizer.step()  # update weight\n",
    "        running_loss += loss.item()\n",
    "\n",
    "    loss_.append(running_loss / n)\n",
    "    if epoch % 10 == 0:\n",
    "        print(f'epoch: {epoch}, loss: {running_loss / len(trainloader)}')"
   ]
  },
  {
   "cell_type": "code",
   "execution_count": 38,
   "id": "eba96bc6-f88f-4afd-aca1-d14ba23a87c9",
   "metadata": {},
   "outputs": [
    {
     "data": {
      "image/png": "[encoded data removed]",
      "text/plain": [
       "<Figure size 640x480 with 1 Axes>"
      ]
     },
     "metadata": {},
     "output_type": "display_data"
    }
   ],
   "source": [
    "plt.plot(loss_)\n",
    "plt.title(\"Training Loss\")\n",
    "plt.xlabel(\"epoch\")\n",
    "plt.show()"
   ]
  },
  {
   "cell_type": "markdown",
   "id": "7158bb45-e67d-4cbb-b53e-ae2187a988c2",
   "metadata": {},
   "source": [
    "# 5. Save Model and Load Model"
   ]
  },
  {
   "cell_type": "code",
   "execution_count": 39,
   "id": "8971b3db-bf9e-4d48-9290-5c6fb34677db",
   "metadata": {},
   "outputs": [],
   "source": [
    "PATH = './models/cifar_alexnet.pth'\n",
    "torch.save(alexnet.state_dict(), PATH)"
   ]
  },
  {
   "cell_type": "code",
   "execution_count": 40,
   "id": "352def8d-91e5-4204-a294-53df878cb5c4",
   "metadata": {},
   "outputs": [
    {
     "data": {
      "text/plain": [
       "<All keys matched successfully>"
      ]
     },
     "execution_count": 40,
     "metadata": {},
     "output_type": "execute_result"
    }
   ],
   "source": [
    "alexnet = AlexNet().to(device)\n",
    "alexnet.load_state_dict(torch.load(PATH))"
   ]
  },
  {
   "cell_type": "markdown",
   "id": "cdeb5cf0-8b68-4453-85a5-91e5057eff77",
   "metadata": {},
   "source": [
    "# 6. Model Evaluation"
   ]
  },
  {
   "cell_type": "code",
   "execution_count": 42,
   "id": "623e367a-4ae2-4753-9bf2-5c7155a244b7",
   "metadata": {},
   "outputs": [
    {
     "name": "stdout",
     "output_type": "stream",
     "text": [
      "Test accuracy: 75.65%\n"
     ]
    }
   ],
   "source": [
    "correct = 0\n",
    "total = 0\n",
    "with torch.no_grad():\n",
    "    alexnet.eval()\n",
    "    for data in testloader:\n",
    "        images, labels = data[0].to(device), data[1].to(device)\n",
    "        outputs = alexnet(images)\n",
    "        _, predicted = torch.max(outputs, 1)\n",
    "        total += labels.size(0)\n",
    "        correct += (predicted == labels).sum().item() # correct: 1, incorrect: 0 ~ sum\n",
    "\n",
    "print(f'Test accuracy: {(100 * correct / total):.2f}%')"
   ]
  },
  {
   "cell_type": "code",
   "execution_count": null,
   "id": "b7bde4fa-7723-4a10-be32-47af1b01fb73",
   "metadata": {},
   "outputs": [],
   "source": []
  }
 ],
 "metadata": {
  "kernelspec": {
   "display_name": "Python 3 (ipykernel)",
   "language": "python",
   "name": "python3"
  },
  "language_info": {
   "codemirror_mode": {
    "name": "ipython",
    "version": 3
   },
   "file_extension": ".py",
   "mimetype": "text/x-python",
   "name": "python",
   "nbconvert_exporter": "python",
   "pygments_lexer": "ipython3",
   "version": "3.10.14"
  }
 },
 "nbformat": 4,
 "nbformat_minor": 5
}
